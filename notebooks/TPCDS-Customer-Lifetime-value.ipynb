{
 "metadata": {
  "kernelspec": {
   "display_name": "Streamlit Notebook",
   "name": "streamlit"
  },
  "lastEditStatus": {
   "notebookId": "fqawsi4wszgb3f5t5oc2",
   "authorId": "3189750686748",
   "authorName": "ANIRUDH",
   "authorEmail": "anirudh131299@gmail.com",
   "sessionId": "01568379-7e80-40ec-a749-8e6b569905f8",
   "lastEditTime": 1757584259535
  }
 },
 "nbformat_minor": 5,
 "nbformat": 4,
 "cells": [
  {
   "cell_type": "markdown",
   "id": "493374b1-67a8-4608-90bf-3220957dfb9e",
   "metadata": {
    "name": "cell9",
    "collapsed": false
   },
   "source": "## Snowflake Setup"
  },
  {
   "cell_type": "code",
   "id": "029ffedb-3925-4664-a890-f0d4da46d196",
   "metadata": {
    "language": "python",
    "name": "cell1"
   },
   "outputs": [],
   "source": "import pandas as pd\n\nfrom snowflake.snowpark import functions as F\nfrom snowflake.snowpark import version as V\n\nfrom snowflake.ml.modeling.xgboost import XGBRegressor\nfrom snowflake.ml.modeling.preprocessing import KBinsDiscretizer, OneHotEncoder\nfrom snowflake.ml.modeling.impute import SimpleImputer\nfrom snowflake.snowpark.context import get_active_session\n\nsession = get_active_session()",
   "execution_count": null
  },
  {
   "cell_type": "code",
   "id": "56bf7ce4-4de3-4da4-b92d-bce7907e3369",
   "metadata": {
    "language": "python",
    "name": "cell2"
   },
   "outputs": [],
   "source": "import warnings \nwarnings.filterwarnings(\"ignore\")",
   "execution_count": null
  },
  {
   "cell_type": "code",
   "id": "dd2e7ba8-68c1-4f51-a53a-b609454d2e30",
   "metadata": {
    "language": "python",
    "name": "cell3"
   },
   "outputs": [],
   "source": "session.sql('CREATE OR REPLACE DATABASE TPCDS').collect()\nsession.sql('CREATE OR REPLACE SCHEMA TPCDS.DEMO').collect()\nsession.sql(\"create or replace warehouse snowpark_opt_wh with warehouse_size = 'MEDIUM' warehouse_type = 'SNOWPARK-OPTIMIZED'\").collect()\nsession.sql(\"alter warehouse snowpark_opt_wh set max_concurrency_level = 1\").collect()\nsession.sql('CREATE OR REPLACE STAGE TPCDS.DEMO.ML_MODELS').collect()\nsession.use_database('TPCDS')\nsession.use_schema('DEMO')",
   "execution_count": null
  },
  {
   "cell_type": "code",
   "id": "cf04309b-cea9-4dc4-88a4-e9435792c49f",
   "metadata": {
    "language": "python",
    "name": "cell4"
   },
   "outputs": [],
   "source": "TPCDS_SIZE_PARAM = 10\nSNOWFLAKE_SAMPLE_DB = 'TPCDS_10TB'\n\nif TPCDS_SIZE_PARAM == 100: \n    TPCDS_SCHEMA = 'TPCDS_SF100TCL'\nelif TPCDS_SIZE_PARAM == 10:\n    TPCDS_SCHEMA = 'TPCDS_SF10TCL'\nelse:\n    raise ValueError(\"Invalid TPCDS_SIZE_PARAM selection\")\n    \nstore_sales = session.table(f'{SNOWFLAKE_SAMPLE_DB}.{TPCDS_SCHEMA}.store_sales')\ncatalog_sales = session.table(f'{SNOWFLAKE_SAMPLE_DB}.{TPCDS_SCHEMA}.catalog_sales') \nweb_sales = session.table(f'{SNOWFLAKE_SAMPLE_DB}.{TPCDS_SCHEMA}.web_sales') \ndate = session.table(f'{SNOWFLAKE_SAMPLE_DB}.{TPCDS_SCHEMA}.date_dim')\ndim_stores = session.table(f'{SNOWFLAKE_SAMPLE_DB}.{TPCDS_SCHEMA}.store')\ncustomer = session.table(f'{SNOWFLAKE_SAMPLE_DB}.{TPCDS_SCHEMA}.customer')\naddress = session.table(f'{SNOWFLAKE_SAMPLE_DB}.{TPCDS_SCHEMA}.customer_address')\ndemo = session.table(f'{SNOWFLAKE_SAMPLE_DB}.{TPCDS_SCHEMA}.customer_demographics')",
   "execution_count": null
  },
  {
   "cell_type": "markdown",
   "id": "cbf9cfb7-f576-4f56-941e-78f91eff0bad",
   "metadata": {
    "name": "cell8",
    "collapsed": false
   },
   "source": "## Data Engineering"
  },
  {
   "cell_type": "code",
   "id": "9fb10a2b-3eb8-4a1f-87bc-c9eb1a2d6ba0",
   "metadata": {
    "language": "python",
    "name": "cell5"
   },
   "outputs": [],
   "source": "store_sales_agged = store_sales.group_by('ss_customer_sk').agg(F.sum('ss_sales_price').as_('total_sales'))\nweb_sales_agged = web_sales.group_by('ws_bill_customer_sk').agg(F.sum('ws_sales_price').as_('total_sales'))\ncatalog_sales_agged = catalog_sales.group_by('cs_bill_customer_sk').agg(F.sum('cs_sales_price').as_('total_sales'))\nstore_sales_agged = store_sales_agged.rename('ss_customer_sk', 'customer_sk')\nweb_sales_agged = web_sales_agged.rename('ws_bill_customer_sk', 'customer_sk')\ncatalog_sales_agged = catalog_sales_agged.rename('cs_bill_customer_sk', 'customer_sk')",
   "execution_count": null
  },
  {
   "cell_type": "code",
   "id": "e932d235-1acb-4434-8377-fce9cc71e1f1",
   "metadata": {
    "language": "python",
    "name": "cell6"
   },
   "outputs": [],
   "source": "total_sales = store_sales_agged.union_all(web_sales_agged)\ntotal_sales = total_sales.union_all(catalog_sales_agged)",
   "execution_count": null
  },
  {
   "cell_type": "code",
   "id": "29fef51f-2caf-4db7-b951-5b49744d7cce",
   "metadata": {
    "language": "python",
    "name": "cell7"
   },
   "outputs": [],
   "source": "total_sales = total_sales.group_by('customer_sk').agg(F.sum('total_sales').as_('total_sales'))\n",
   "execution_count": null
  },
  {
   "cell_type": "code",
   "id": "fc6814e1-73b9-405c-a81b-c0cff6dffa66",
   "metadata": {
    "language": "python",
    "name": "cell10"
   },
   "outputs": [],
   "source": "customer = customer.select('c_customer_sk','c_current_hdemo_sk', 'c_current_addr_sk', 'c_customer_id', 'c_birth_year')\n",
   "execution_count": null
  },
  {
   "cell_type": "code",
   "id": "b62dc4bd-e930-4a8f-9676-1f3de483e2bd",
   "metadata": {
    "language": "python",
    "name": "cell11"
   },
   "outputs": [],
   "source": "customer = customer.join(address.select('ca_address_sk', 'ca_zip'), customer['c_current_addr_sk'] == address['ca_address_sk'] )\ncustomer = customer.join(demo.select('cd_demo_sk', 'cd_gender', 'cd_marital_status', 'cd_credit_rating', 'cd_education_status', 'cd_dep_count'),\n                                customer['c_current_hdemo_sk'] == demo['cd_demo_sk'] )\ncustomer = customer.rename('c_customer_sk', 'customer_sk')",
   "execution_count": null
  },
  {
   "cell_type": "code",
   "id": "0241cb3d-2332-403f-b859-7f2958be8480",
   "metadata": {
    "language": "python",
    "name": "cell12"
   },
   "outputs": [],
   "source": "customer.limit(5).to_pandas()",
   "execution_count": null
  },
  {
   "cell_type": "code",
   "id": "88c6adaa-5a75-45c2-b152-5ebb67ab4458",
   "metadata": {
    "language": "python",
    "name": "cell13"
   },
   "outputs": [],
   "source": "final_df = total_sales.join(customer, on='customer_sk')\nfinal_df.count()",
   "execution_count": null
  },
  {
   "cell_type": "code",
   "id": "2c6be7ed-4c07-46d2-a7cd-53bfc23d626b",
   "metadata": {
    "language": "python",
    "name": "cell14"
   },
   "outputs": [],
   "source": "session.use_database('TPCDS')\nsession.use_schema('DEMO')\nfinal_df.write.mode('overwrite').save_as_table('feature_store')",
   "execution_count": null
  },
  {
   "cell_type": "markdown",
   "id": "fa56267f-746c-456c-a357-bc0a562e8b31",
   "metadata": {
    "name": "cell15",
    "collapsed": false
   },
   "source": "## Feature Engineering"
  },
  {
   "cell_type": "code",
   "id": "03f281e2-ea80-4f4d-b526-3528fc126f76",
   "metadata": {
    "language": "python",
    "name": "cell16"
   },
   "outputs": [],
   "source": "session.use_warehouse('snowpark_opt_wh')\nsession.use_database('TPCDS')\nsession.use_schema('DEMO')",
   "execution_count": null
  },
  {
   "cell_type": "code",
   "id": "4f2a9a56-c2d1-46be-95c9-361951d646f5",
   "metadata": {
    "language": "python",
    "name": "cell17"
   },
   "outputs": [],
   "source": "snowdf = session.table(\"feature_store\")\nsnowdf = snowdf.drop(['CA_ZIP','CUSTOMER_SK', 'C_CURRENT_HDEMO_SK', 'C_CURRENT_ADDR_SK', 'C_CUSTOMER_ID', 'CA_ADDRESS_SK', 'CD_DEMO_SK'])\n",
   "execution_count": null
  },
  {
   "cell_type": "code",
   "id": "aa97a4da-54c3-4845-a04f-9e4dccb61bfe",
   "metadata": {
    "language": "python",
    "name": "cell18"
   },
   "outputs": [],
   "source": "snowdf.limit(5).to_pandas()",
   "execution_count": null
  },
  {
   "cell_type": "code",
   "id": "5300e0cb-6d2a-4f3e-b420-f0d51fc6d330",
   "metadata": {
    "language": "python",
    "name": "cell19"
   },
   "outputs": [],
   "source": "cat_cols = ['CD_GENDER', 'CD_MARITAL_STATUS', 'CD_CREDIT_RATING', 'CD_EDUCATION_STATUS']\nnum_cols = ['C_BIRTH_YEAR', 'CD_DEP_COUNT']",
   "execution_count": null
  },
  {
   "cell_type": "markdown",
   "id": "f7ddf78b-6690-4f03-b90b-e6cc4d4b7bd5",
   "metadata": {
    "name": "cell20",
    "collapsed": false
   },
   "source": "### Missing Value Imputation\n\nWe can use the SimpleImputer in snowflake.ml.preprocessing to replace missing values with the most frequent.\n\n```\n# SimpleImputer in snowflake.ml.preprocessing\nfrom snowflake.ml.modeling.impute import SimpleImputer\nmy_imputer = sfml.preprocessing.SimpleImputer(input_cols=['your_column'],\n                                output_cols=['your_column'],\n                                strategy='constant',\n                                fill_value='OTHER')\nmy_imputer.fit(my_sdf)\nmy_sdf = my_imputer.transform(my_sdf)\n\n```"
  },
  {
   "cell_type": "code",
   "id": "fea8ae1c-a0e2-4197-9835-b62f47c90c34",
   "metadata": {
    "language": "python",
    "name": "cell22"
   },
   "outputs": [],
   "source": "from snowflake.ml.modeling.impute import SimpleImputer\n",
   "execution_count": null
  },
  {
   "cell_type": "code",
   "id": "3f253d7f-501d-4e6b-8b69-18f9c3183f91",
   "metadata": {
    "language": "python",
    "name": "cell21"
   },
   "outputs": [],
   "source": "#imputation of numeric cols\nmy_imputer = SimpleImputer(input_cols=num_cols,\n                            output_cols= num_cols,\n                           strategy='median')\nsdf_prepared = my_imputer.fit(snowdf).transform(snowdf)",
   "execution_count": null
  },
  {
   "cell_type": "markdown",
   "id": "8a4f5447-1a24-4058-b5b2-7185e5aae213",
   "metadata": {
    "name": "cell24",
    "collapsed": false
   },
   "source": "### One-hot Encoding of Categorical Cols"
  },
  {
   "cell_type": "code",
   "id": "dd0f2b26-b805-4f40-8471-8f6bbffcdf52",
   "metadata": {
    "language": "python",
    "name": "cell23"
   },
   "outputs": [],
   "source": "# OHE of Categorical Cols\nmy_ohe_encoder = OneHotEncoder(input_cols=cat_cols, output_cols=cat_cols, drop_input_cols=True)\nsdf_prepared = my_ohe_encoder.fit(sdf_prepared).transform(sdf_prepared)",
   "execution_count": null
  },
  {
   "cell_type": "code",
   "id": "0fb4f443-a38b-419c-ac74-0edf46607b4e",
   "metadata": {
    "language": "python",
    "name": "cell25"
   },
   "outputs": [],
   "source": "sdf_prepared.limit(5).to_pandas()",
   "execution_count": null
  },
  {
   "cell_type": "markdown",
   "id": "7d93c289-b1c1-4e5b-beac-d5009329ab6f",
   "metadata": {
    "name": "cell26",
    "collapsed": false
   },
   "source": "### Clean Column Names"
  },
  {
   "cell_type": "code",
   "id": "e00dabb4-40fe-426b-a0ff-0e37816d0e40",
   "metadata": {
    "language": "python",
    "name": "cell27"
   },
   "outputs": [],
   "source": "# Cleaning column names to make it easier for future referencing\nimport re\n\ncols = sdf_prepared.columns\nfor old_col in cols:\n    new_col = re.sub(r'[^a-zA-Z0-9_]', '', old_col)\n    new_col = new_col.upper()\n    sdf_prepared = sdf_prepared.rename(F.col(old_col), new_col)",
   "execution_count": null
  },
  {
   "cell_type": "code",
   "id": "3bbb3912-ab92-4da4-93ac-1079ac45daa6",
   "metadata": {
    "language": "python",
    "name": "cell28"
   },
   "outputs": [],
   "source": "#Save the train and test as time stamped tables in snowflake\nsnowdf_train , snowdf_test =sdf_prepared.random_split([0.8,0.2],seed=82)\nsnowdf_train.fillna(0).write.mode(\"overwrite\").save_as_table('tpc_train')\nsnowdf_test.fillna(0).write.mode(\"overwrite\").save_as_table('tpc_test')",
   "execution_count": null
  },
  {
   "cell_type": "markdown",
   "id": "c2a9642a-889f-4dfc-b5f1-61f549abec5c",
   "metadata": {
    "name": "cell29",
    "collapsed": false
   },
   "source": "## ML Modelling\n"
  },
  {
   "cell_type": "code",
   "id": "410c69f9-cdd5-4f35-9d1b-1dbf8247250f",
   "metadata": {
    "language": "python",
    "name": "cell30"
   },
   "outputs": [],
   "source": "session.use_warehouse('snowpark_opt_wh')",
   "execution_count": null
  },
  {
   "cell_type": "code",
   "id": "fb928ece-d52d-4540-878a-fc189ee6f98e",
   "metadata": {
    "language": "python",
    "name": "cell31"
   },
   "outputs": [],
   "source": "#Intialize Model registry object in snowflake\nfrom snowflake.ml.registry  import registry\n\nnative_registry = registry.Registry(session=session,database_name='TPCDS', schema_name='demo')",
   "execution_count": null
  },
  {
   "cell_type": "markdown",
   "id": "b9c44fdd-1fcf-41df-9eda-1dfe4551d3ca",
   "metadata": {
    "name": "cell32",
    "collapsed": false
   },
   "source": "### Get data"
  },
  {
   "cell_type": "code",
   "id": "322709b9-8443-4383-830c-41b06a7f4afa",
   "metadata": {
    "language": "python",
    "name": "cell33"
   },
   "outputs": [],
   "source": "snowdfTrain = session.table('TPCDS.DEMO.TPC_TRAIN')",
   "execution_count": null
  },
  {
   "cell_type": "code",
   "id": "3662eb88-837f-4840-9ce4-4a1fc2196b4f",
   "metadata": {
    "language": "python",
    "name": "cell34"
   },
   "outputs": [],
   "source": "# Prepare data for modelling\nfeature_cols = snowdf_train.columns\nfeature_cols.remove('TOTAL_SALES')\ntarget_col = 'TOTAL_SALES'",
   "execution_count": null
  },
  {
   "cell_type": "markdown",
   "id": "294b04b1-651d-4163-9e76-489d12069f25",
   "metadata": {
    "name": "cell36",
    "collapsed": false
   },
   "source": "### Intialize Model and Fit"
  },
  {
   "cell_type": "code",
   "id": "9c28d373-1625-4b75-b261-7771c023bc2f",
   "metadata": {
    "language": "python",
    "name": "cell35"
   },
   "outputs": [],
   "source": "# Define the XGBRegressor and fit the model\nxgbmodel = XGBRegressor(n_estimators = 100, random_state=123, max_depth = 3, input_cols=feature_cols, label_cols=target_col, output_cols='PREDICTION')\nxgbmodel.fit(snowdf_train)",
   "execution_count": null
  },
  {
   "cell_type": "markdown",
   "id": "cd2a6a3c-23ea-4c43-bfb9-06877a6c22b7",
   "metadata": {
    "name": "cell37",
    "collapsed": false
   },
   "source": "### Predict on a Small Test"
  },
  {
   "cell_type": "code",
   "id": "0191d7fb-9279-4450-913f-11e131f069ec",
   "metadata": {
    "language": "python",
    "name": "cell38"
   },
   "outputs": [],
   "source": "snowdf_test =  session.table('TPCDS.DEMO.TPC_TEST').limit(1000)\nsdf_scored = xgbmodel.predict(snowdf_test)",
   "execution_count": null
  },
  {
   "cell_type": "code",
   "id": "99f0d0bb-fb81-4bf6-95e1-e4bd6e72f37d",
   "metadata": {
    "language": "python",
    "name": "cell39"
   },
   "outputs": [],
   "source": "sdf_scored.limit(5).to_pandas()",
   "execution_count": null
  },
  {
   "cell_type": "markdown",
   "id": "3730c630-e948-476b-9169-5925e6a16657",
   "metadata": {
    "name": "cell40",
    "collapsed": false
   },
   "source": "### Log model in Snowflake Model Registry\n\nYou can refernce this model in a seperate workflow without training it again."
  },
  {
   "cell_type": "code",
   "id": "08d717e7-74dc-4d88-8b8e-e54dfb332822",
   "metadata": {
    "language": "python",
    "name": "cell41"
   },
   "outputs": [],
   "source": "# Define model name\nmodel_name = \"DEMO_TPCDS\"\nmodel_version = f\"V1_{model_name}\"\n\n# Let's log the best model trained\nmodel_ver = native_registry.log_model(\n    model_name= model_name,\n    version_name= model_version,\n    model= xgbmodel,\n    comment= \"Wasn't this super easy?\"\n)",
   "execution_count": null
  },
  {
   "cell_type": "code",
   "id": "b3ab7e68-1713-4101-aab1-1a8f019f9057",
   "metadata": {
    "language": "python",
    "name": "cell42"
   },
   "outputs": [],
   "source": "native_registry.show_models()",
   "execution_count": null
  },
  {
   "cell_type": "markdown",
   "id": "d183e1c2-718d-414d-9007-56b249c27410",
   "metadata": {
    "name": "cell43",
    "collapsed": false
   },
   "source": "## 5.0 Using Model Registry for Inference\n\nThe Snowpark Model Registry stores machine learning models as first-class schema-level objects in Snowflake so they can easily be found and used by others in your organization.\n\nOnce you have stored a model, you can invoke its methods (equivalent to functions or stored procedures) to perform model operations, such as inference, in a Snowflake virtual warehouse.\n\n\n### 5.1 View all model version"
  },
  {
   "cell_type": "code",
   "id": "724da81f-eb63-4cd1-84b7-f9f76c360a87",
   "metadata": {
    "language": "python",
    "name": "cell44"
   },
   "outputs": [],
   "source": "model_name = \"DEMO_TPCDS\"\nnative_registry.get_model(model_name).show_versions()",
   "execution_count": null
  },
  {
   "cell_type": "markdown",
   "id": "ddf48e7c-f6ba-40dd-9191-49328d393ea1",
   "metadata": {
    "name": "cell46",
    "collapsed": false
   },
   "source": "### 5.2 Get Default Version"
  },
  {
   "cell_type": "code",
   "id": "ac11af82-014c-448c-ae73-110a58b53858",
   "metadata": {
    "language": "python",
    "name": "cell47"
   },
   "outputs": [],
   "source": "model = native_registry.get_model(model_name).default\n",
   "execution_count": null
  }
 ]
}