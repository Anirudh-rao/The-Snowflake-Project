{
 "metadata": {
  "kernelspec": {
   "display_name": "Streamlit Notebook",
   "name": "streamlit"
  },
  "lastEditStatus": {
   "notebookId": "ncp3y54ekjl2v7wij5gd",
   "authorId": "3189750686748",
   "authorName": "ANIRUDH",
   "authorEmail": "anirudh131299@gmail.com",
   "sessionId": "525b7dc5-79c2-4dad-9163-8c2f4fec9e02",
   "lastEditTime": 1756913835024
  }
 },
 "nbformat_minor": 5,
 "nbformat": 4,
 "cells": [
  {
   "cell_type": "markdown",
   "id": "37fde83f-deb6-4621-a1e2-ccf9630851f3",
   "metadata": {
    "name": "cell4",
    "collapsed": false
   },
   "source": "# Getting Started with Snowpark\n"
  },
  {
   "cell_type": "code",
   "id": "37a03ff1-b5eb-487b-b4b5-26193b9fcc51",
   "metadata": {
    "language": "python",
    "name": "cell1"
   },
   "outputs": [],
   "source": "from snowflake.snowpark.context import get_active_session\nimport streamlit as st\n\nsession =get_active_session()",
   "execution_count": null
  },
  {
   "cell_type": "code",
   "id": "2e41a81d-ad38-4d9d-bac0-6be57feb630d",
   "metadata": {
    "language": "python",
    "name": "cell2"
   },
   "outputs": [],
   "source": "df = session.sql('SELECT * FROM US_ADDRESSES__POI.CYBERSYN.US_ADDRESSES')\nst.dataframe(df)",
   "execution_count": null
  },
  {
   "cell_type": "markdown",
   "id": "d987f4f9-fb00-4ec0-8e68-a89adbb6479c",
   "metadata": {
    "name": "cell3",
    "collapsed": false
   },
   "source": "# Snowpark Opeations"
  },
  {
   "cell_type": "code",
   "id": "e605b94e-218b-459e-b25c-45e61ff5f06c",
   "metadata": {
    "language": "sql",
    "name": "cell7"
   },
   "outputs": [],
   "source": "SELECT COUNT(*) FROM US_ADDRESSES__POI.CYBERSYN.US_ADDRESSES WHERE STATE ='TX'",
   "execution_count": null
  },
  {
   "cell_type": "code",
   "id": "7c48c234-bc85-4e3d-bbfd-9571ae3f9056",
   "metadata": {
    "language": "python",
    "name": "cell6"
   },
   "outputs": [],
   "source": "df.filter(df['STATE'] == 'TX').count() #To Get the Count",
   "execution_count": null
  },
  {
   "cell_type": "code",
   "id": "5348cacf-c8ae-40af-ba3b-d81463abec60",
   "metadata": {
    "language": "python",
    "name": "cell17"
   },
   "outputs": [],
   "source": "df.filter(df['STATE'] == 'TX')",
   "execution_count": null
  },
  {
   "cell_type": "code",
   "id": "f3fed95a-5166-446b-bed6-64456700b155",
   "metadata": {
    "language": "sql",
    "name": "cell5"
   },
   "outputs": [],
   "source": "-- Creating Table from other views\nCreate table snowflake_learning_db.source.us_addresses as Select * from US_ADDRESSES__POI.CYBERSYN.US_ADDRESSES;",
   "execution_count": null
  },
  {
   "cell_type": "code",
   "id": "9d54c1e7-d615-48a9-bf06-7f48bafab0ce",
   "metadata": {
    "language": "sql",
    "name": "cell8"
   },
   "outputs": [],
   "source": "Select * from snowflake_learning_db.source.us_addresses;",
   "execution_count": null
  },
  {
   "cell_type": "code",
   "id": "301384ba-024c-4212-a902-7ec4921f9036",
   "metadata": {
    "language": "python",
    "name": "cell9"
   },
   "outputs": [],
   "source": "df.write.mode('append').save_as_table(\"snowflake_learning_db.source.us_addresses\") #Save as table",
   "execution_count": null
  },
  {
   "cell_type": "code",
   "id": "78d4e8c8-9030-46d2-9f0b-c2e59acf4673",
   "metadata": {
    "language": "python",
    "name": "cell10"
   },
   "outputs": [],
   "source": "df.describe()",
   "execution_count": null
  },
  {
   "cell_type": "code",
   "id": "17631cbd-4e39-482b-9bd4-38dc70577ecf",
   "metadata": {
    "language": "sql",
    "name": "cell12"
   },
   "outputs": [],
   "source": "SELECT DISTINCT STATE FROM SNOWFLAKE_LEARNING_DB.SOURCE.US_ADDRESSES;",
   "execution_count": null
  },
  {
   "cell_type": "code",
   "id": "d9393c1b-4972-4d15-ab22-c00a7a2d117f",
   "metadata": {
    "language": "python",
    "name": "cell11"
   },
   "outputs": [],
   "source": "Unique_df = df.select('STATE').distinct()\nst.dataframe(Unique_df)",
   "execution_count": null
  },
  {
   "cell_type": "code",
   "id": "c8565ed0-d4b5-4e20-95fc-d4740e3f4c7c",
   "metadata": {
    "language": "sql",
    "name": "cell13"
   },
   "outputs": [],
   "source": "Select STATE,COUNT(*) FROM SNOWFLAKE_LEARNING_DB.SOURCE.US_ADDRESSES GROUP BY STATE ORDER BY 1 ;",
   "execution_count": null
  },
  {
   "cell_type": "code",
   "id": "1f4094fc-b427-428d-8258-19855e7ccb3e",
   "metadata": {
    "language": "python",
    "name": "cell14"
   },
   "outputs": [],
   "source": "from snowflake.snowpark.functions import col, count\n\ndf  = session.table('snowflake_learning_db.source.us_addresses')\ncount_df =  df.group_by('STATE').agg(count('*')).order_by('STATE').alias('COUNT')\ncount_df",
   "execution_count": null
  },
  {
   "cell_type": "code",
   "id": "b0ba38ca-111c-44ef-836d-92fd76784b52",
   "metadata": {
    "language": "sql",
    "name": "cell16"
   },
   "outputs": [],
   "source": "-- Creating Schema\nCREATE OR REPLACE SCHEMA SNOWFLAKE_LEARNING_DB.RAW;\n\n-- Creating CA Address Table\nCREATE OR REPLACE TABLE SNOWFLAKE_LEARNING_DB.RAW.CA_ADDRESS_LIST AS SELECT * FROM SNOWFLAKE_LEARNING_DB.SOURCE.US_ADDRESSES WHERE STATE ='CA';\n\n-- Creating NY Address Table\nCREATE OR REPLACE TABLE SNOWFLAKE_LEARNING_DB.RAW.NY_ADDRESS_LIST AS SELECT * FROM SNOWFLAKE_LEARNING_DB.SOURCE.US_ADDRESSES WHERE STATE ='NY';\n\n-- Creating IL Address Table\nCREATE OR REPLACE TABLE SNOWFLAKE_LEARNING_DB.RAW.IL_ADDRESS_LIST AS SELECT * FROM SNOWFLAKE_LEARNING_DB.SOURCE.US_ADDRESSES WHERE STATE ='IL';\n\n-- Creating FL Address Table\nCREATE OR REPLACE TABLE SNOWFLAKE_LEARNING_DB.RAW.FL_ADDRESS_LIST AS SELECT * FROM SNOWFLAKE_LEARNING_DB.SOURCE.US_ADDRESSES WHERE STATE ='FL';\n\n-- Creating TX Address Table\nCREATE OR REPLACE TABLE SNOWFLAKE_LEARNING_DB.RAW.TX_ADDRESS_LIST AS SELECT * FROM SNOWFLAKE_LEARNING_DB.SOURCE.US_ADDRESSES WHERE STATE ='TX';\n\n-- Creating CO Address Table\nCREATE OR REPLACE TABLE SNOWFLAKE_LEARNING_DB.RAW.CO_ADDRESS_LIST AS SELECT * FROM SNOWFLAKE_LEARNING_DB.SOURCE.US_ADDRESSES WHERE STATE ='CO';",
   "execution_count": null
  },
  {
   "cell_type": "code",
   "id": "6c78f3db-c20f-4e85-9e72-0bf4e534a542",
   "metadata": {
    "language": "python",
    "name": "cell18"
   },
   "outputs": [],
   "source": "from snowflake.core import Root\nfrom snowflake.core.database import Database\nfrom snowflake.core.schema import Schema\n\nroot = Root(session)\nmy_db = Database('ETL')\nroot.databases.create(my_db)\n\n\nsession.use_database('ETL')\n\nmy_schema = Schema(name=\"raw\")\nroot.databases[\"ETL\"].schemas.create(my_schema)\n\nmy_schema = Schema(name=\"cleaned\")\nroot.databases[\"ETL\"].schemas.create(my_schema)\n\nmy_schema = Schema(name=\"pre_mart\")\nroot.databases[\"ETL\"].schemas.create(my_schema)",
   "execution_count": null
  },
  {
   "cell_type": "code",
   "id": "4524426f-c668-4d3c-a8e4-30e829ffeaf7",
   "metadata": {
    "language": "sql",
    "name": "cell19"
   },
   "outputs": [],
   "source": "CREATE OR REPLACE DATABASE ETL;\nUSE DATABASE ETL;\n\nCREATE OR REPLACE SCHEMA RAW;\nCREATE OR REPLACE SCHEMA CLEANED;\nCREATE OR REPLACE SCHEMA PRE_MART;\n",
   "execution_count": null
  },
  {
   "cell_type": "code",
   "id": "826ec0cb-3d43-400e-8808-ef38f4d70ccf",
   "metadata": {
    "language": "python",
    "name": "cell15"
   },
   "outputs": [],
   "source": "session.use_database('ETL')\n\nca_df = df.filter(df['STATE'] == 'CA')\nca_df.write.save_as_table('ETL.RAW.CA_ADDRESS_LIST_PY')\n\nny_df = df.filter(df['STATE'] == 'NY')\nny_df.write.save_as_table('ETL.RAW.NY_ADDRESS_LIST_PY')\n\nil_df = df.filter(df['STATE'] == 'IL')\nil_df.write.save_as_table('ETL.RAW.IL_ADDRESS_LIST_PY')\n\nfl_df = df.filter(df['STATE'] == 'FL')\nfl_df.write.save_as_table('ETL.RAW.FL_ADDRESS_LIST_PY')\n\ntx_df = df.filter(df['STATE'] == 'TX')\ntx_df.write.save_as_table('ETL.RAW.TX_ADDRESS_LIST_PY')\n\nco_df = df.filter(df['STATE'] == 'CO')\nco_df.write.save_as_table('ETL.RAW.CO_ADDRESS_LIST_PY')",
   "execution_count": null
  }
 ]
}